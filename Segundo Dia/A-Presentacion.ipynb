{
 "cells": [
  {
   "cell_type": "markdown",
   "metadata": {
    "slideshow": {
     "slide_type": "slide"
    }
   },
   "source": [
    "# Uso de librerias"
   ]
  },
  {
   "cell_type": "markdown",
   "metadata": {
    "slideshow": {
     "slide_type": "fragment"
    }
   },
   "source": [
    "Las librerias normalmente estan formadas por funciones y/o clases que extienden las capacidades de Python para algún uso en particular. Estas pueden estar escritas en Python o pueden estar escritas en otro lenguaje (c, c++) e incluir las \"instrucciones\" necesarias para que Python las pueda utilizar."
   ]
  },
  {
   "cell_type": "markdown",
   "metadata": {
    "slideshow": {
     "slide_type": "slide"
    }
   },
   "source": [
    "![xkcd 353](img/xkcd-353-python.png)\n",
    "Tomado de: https://xkcd.com/353/"
   ]
  },
  {
   "cell_type": "markdown",
   "metadata": {
    "slideshow": {
     "slide_type": "slide"
    }
   },
   "source": [
    "Las librerias se importan usando el comando `import`. Hay por lo menos tres formas útiles para hacerlo."
   ]
  },
  {
   "cell_type": "markdown",
   "metadata": {
    "slideshow": {
     "slide_type": "fragment"
    }
   },
   "source": [
    "* Importar la libreria"
   ]
  },
  {
   "cell_type": "code",
   "execution_count": 4,
   "metadata": {
    "collapsed": false,
    "slideshow": {
     "slide_type": "fragment"
    }
   },
   "outputs": [
    {
     "name": "stdout",
     "output_type": "stream",
     "text": [
      "El coseno de 0.5 es 0.878\n"
     ]
    }
   ],
   "source": [
    "import math\n",
    "angulo = 0.5\n",
    "valor = math.cos(angulo)\n",
    "print(\"El coseno de {} es {:.3f}\".format(angulo, valor))"
   ]
  },
  {
   "cell_type": "markdown",
   "metadata": {
    "slideshow": {
     "slide_type": "slide"
    }
   },
   "source": [
    "* Importar especificametne las funciones que necesitaremos"
   ]
  },
  {
   "cell_type": "code",
   "execution_count": 5,
   "metadata": {
    "collapsed": false,
    "slideshow": {
     "slide_type": "fragment"
    }
   },
   "outputs": [
    {
     "name": "stdout",
     "output_type": "stream",
     "text": [
      "El coseno de 0.5 es 0.878\n"
     ]
    }
   ],
   "source": [
    "from math import cos\n",
    "angulo = 0.5\n",
    "valor = cos(angulo)\n",
    "print(\"El coseno de {} es {:.3f}\".format(angulo, valor))"
   ]
  },
  {
   "cell_type": "markdown",
   "metadata": {
    "slideshow": {
     "slide_type": "slide"
    }
   },
   "source": [
    "* Importar la librería con un alias corto"
   ]
  },
  {
   "cell_type": "code",
   "execution_count": 7,
   "metadata": {
    "collapsed": false,
    "slideshow": {
     "slide_type": "fragment"
    }
   },
   "outputs": [
    {
     "name": "stdout",
     "output_type": "stream",
     "text": [
      "El coseno de 0.5 es 0.878\n"
     ]
    }
   ],
   "source": [
    "import math as m\n",
    "angulo = 0.5\n",
    "valor = m.cos(angulo)\n",
    "print(\"El coseno de {} es {:.3f}\".format(angulo, valor))"
   ]
  },
  {
   "cell_type": "markdown",
   "metadata": {
    "slideshow": {
     "slide_type": "slide"
    }
   },
   "source": [
    "* Importar todas las funciones, métodos y clases de la libreria _(__no__ recomendado)_"
   ]
  },
  {
   "cell_type": "code",
   "execution_count": 8,
   "metadata": {
    "collapsed": false,
    "slideshow": {
     "slide_type": "fragment"
    }
   },
   "outputs": [
    {
     "name": "stdout",
     "output_type": "stream",
     "text": [
      "El coseno de 0.5 es 0.878\n"
     ]
    }
   ],
   "source": [
    "from math import *\n",
    "angulo = 0.5\n",
    "valor = cos(angulo)\n",
    "print(\"El coseno de {} es {:.3f}\".format(angulo, valor))"
   ]
  },
  {
   "cell_type": "markdown",
   "metadata": {
    "slideshow": {
     "slide_type": "slide"
    }
   },
   "source": [
    "Algunas librerias forman las librerias estandar de Python:\n",
    "\n",
    "**Text Processing Services**\n",
    "\n",
    "**string** Common string operations;\n",
    "**re** Regular expression operations;\n",
    "**difflib** Helpers for computing deltas;\n",
    "**textwrap** Text wrapping and filling;\n",
    "**unicodedata** Unicode Database;\n",
    "**stringprep** Internet String Preparation;\n",
    "**readline** GNU readline interface;\n",
    "**rlcompleter** Completion function for GNU readline;\n",
    "\n",
    "**Binary Data Services**\n",
    "\n",
    "**struct** Interpret bytes as packed binary data;\n",
    "**codecs** Codec registry and base classes;\n",
    "\n",
    "**Data Types**\n",
    "\n",
    "**datetime** Basic date and time types;\n",
    "**calendar** General calendar-related functions;\n",
    "**collections** Container datatypes;\n",
    "**collections.abc** Abstract Base Classes for Containers;\n",
    "**heapq** Heap queue algorithm;\n",
    "**bisect** Array bisection algorithm;\n",
    "**array** Efficient arrays of numeric values;\n",
    "**weakref** Weak references;\n",
    "**types** Dynamic type creation and names for built-in types\n",
    "**copy** Shallow and deep copy operations;\n",
    "**pprint** Data pretty printer;\n",
    "**reprlib** Alternate repr() implementation;\n",
    "**enum** Support for enumerations;"
   ]
  },
  {
   "cell_type": "markdown",
   "metadata": {
    "slideshow": {
     "slide_type": "subslide"
    }
   },
   "source": [
    "**Numeric and Mathematical Modules**\n",
    "\n",
    "**numbers** Numeric abstract base classes;\n",
    "**math** Mathematical functions;\n",
    "**cmath** Mathematical functions for complex numbers;\n",
    "**decimal** Decimal fixed point and floating point arithmetic;\n",
    "**fractions** Rational numbers;\n",
    "**random** Generate pseudo-random numbers;\n",
    "**statistics** Mathematical statistics functions;\n",
    "\n",
    "**Functional Programming Modules**\n",
    "\n",
    "**itertools** Functions creating iterators for efficient looping;\n",
    "**functools** Higher-order functions and operations on callable objects;\n",
    "**operator** Standard operators as functions;\n",
    "\n",
    "**File and Directory Access**\n",
    "\n",
    "**pathlib** Object-oriented filesystem paths;\n",
    "**os.path** Common pathname manipulations;\n",
    "**fileinput** Iterate over lines from multiple input streams;\n",
    "**stat** Interpreting stat() results;\n",
    "**filecmp** File and Directory Comparisons;\n",
    "**tempfile** Generate temporary files and directories;\n",
    "**glob** Unix style pathname pattern expansion;\n",
    "**fnmatch** Unix filename pattern matching;\n",
    "**linecache** Random access to text lines;\n",
    "**shutil** High-level file operations;\n",
    "**macpath** Mac OS 9 path manipulation functions;"
   ]
  },
  {
   "cell_type": "markdown",
   "metadata": {
    "slideshow": {
     "slide_type": "subslide"
    }
   },
   "source": [
    "**Data Persistence**\n",
    "\n",
    "**pickle** Python object serialization;\n",
    "**copyreg** Register pickle support functions;\n",
    "**shelve** Python object persistence;\n",
    "**marshal** Internal Python object serialization;\n",
    "**dbm** Interfaces to Unix “databases”;\n",
    "**sqlite3** DB-API 2.0 interface for SQLite databases;\n",
    "\n",
    "**Data Compression and Archiving**\n",
    "\n",
    "**zlib** Compression compatible with gzip;\n",
    "**gzip** Support for gzip files;\n",
    "**bz2** Support for bzip2 compression;\n",
    "**lzma** Compression using the LZMA algorithm;\n",
    "**zipfile** Work with ZIP archives;\n",
    "**tarfile** Read and write tar archive files;\n",
    "\n",
    "**File Formats**\n",
    "\n",
    "**csv** CSV File Reading and Writing;\n",
    "**configparser** Configuration file parser;\n",
    "**netrc** netrc file processing;\n",
    "**xdrlib** Encode and decode XDR data;\n",
    "**plistlib** Generate and parse Mac OS X .plist files;"
   ]
  },
  {
   "cell_type": "markdown",
   "metadata": {
    "slideshow": {
     "slide_type": "subslide"
    }
   },
   "source": [
    "**Cryptographic Services**\n",
    "\n",
    "**hashlib** Secure hashes and message digests;\n",
    "**hmac** Keyed-Hashing for Message Authentication;\n",
    "**secrets** Generate secure random numbers for managing secrets;\n",
    "\n",
    "**Generic Operating System Services**\n",
    "\n",
    "**os** Miscellaneous operating system interfaces;\n",
    "**io** Core tools for working with streams;\n",
    "**time** Time access and conversions;\n",
    "**argparse** Parser for command-line options, arguments and sub-commands;\n",
    "**getopt** C-style parser for command line options;\n",
    "**logging** Logging facility for Python;\n",
    "**logging.config** Logging configuration;\n",
    "**logging.handlers** Logging handlers;\n",
    "**getpass** Portable password input;\n",
    "**curses** Terminal handling for character-cell displays;\n",
    "**curses.textpad** Text input widget for curses programs;\n",
    "**curses.ascii** Utilities for ASCII characters;\n",
    "**curses.panel** A panel stack extension for curses;\n",
    "**platform** Access to underlying platform’s identifying data;\n",
    "**errno** Standard errno system symbols;\n",
    "**ctypes** A foreign function library for Python;"
   ]
  },
  {
   "cell_type": "markdown",
   "metadata": {
    "slideshow": {
     "slide_type": "subslide"
    }
   },
   "source": [
    "**Concurrent Execution**\n",
    "\n",
    "**threading** Thread-based parallelism;\n",
    "**multiprocessing** Process-based parallelism;\n",
    "**concurrent.futures** Launching parallel tasks;\n",
    "**subprocess** Subprocess management;\n",
    "**sched** Event scheduler;\n",
    "**queue** A synchronized queue class;\n",
    "**dummy_threading** Drop-in replacement for the threading module;\n",
    "**_thread** Low-level threading API;\n",
    "**_dummy_thread** Drop-in replacement for the _thread module;\n",
    "\n",
    "**Interprocess Communication and Networking**\n",
    "\n",
    "**socket** Low-level networking interface;\n",
    "**ssl** TLS/SSL wrapper for socket objects;\n",
    "**select** Waiting for I/O completion;\n",
    "**selectors** High-level I/O multiplexing;\n",
    "**asyncio** Asynchronous I/O, event loop, coroutines and tasks;\n",
    "**asyncore** Asynchronous socket handler;\n",
    "**asynchat** Asynchronous socket command/response handler;\n",
    "**signal** Set handlers for asynchronous events;\n",
    "**mmap** Memory-mapped file support;"
   ]
  },
  {
   "cell_type": "markdown",
   "metadata": {
    "slideshow": {
     "slide_type": "subslide"
    }
   },
   "source": [
    "**Internet Data Handling**\n",
    "\n",
    "**email** An email and MIME handling package;\n",
    "**json** JSON encoder and decoder;\n",
    "**mailcap** Mailcap file handling;\n",
    "**mailbox** Manipulate mailboxes in various formats;\n",
    "**mimetypes** Map filenames to MIME types;\n",
    "**base64** Base16, Base32, Base64, Base85 Data Encodings;\n",
    "**binhex** Encode and decode binhex4 files;\n",
    "**binascii** Convert between binary and ASCII;\n",
    "**quopri** Encode and decode MIME quoted-printable data;\n",
    "**uu** Encode and decode uuencode files;\n",
    "\n",
    "**Structured Markup Processing Tools**\n",
    "\n",
    "**html** HyperText Markup Language support;\n",
    "**html.parser** Simple HTML and XHTML parser;\n",
    "**html.entities** Definitions of HTML general entities;\n",
    "**XML Processing Modules\n",
    "**xml.etree.ElementTree** The ElementTree XML API;\n",
    "**xml.dom** The Document Object Model API;\n",
    "**xml.dom.minidom** Minimal DOM implementation;\n",
    "**xml.dom.pulldom** Support for building partial DOM trees;\n",
    "**xml.sax** Support for SAX2 parsers;\n",
    "**xml.sax.handler** Base classes for SAX handlers;\n",
    "**xml.sax.saxutils** SAX Utilities;\n",
    "**xml.sax.xmlreader** Interface for XML parsers;\n",
    "**xml.parsers.expat** Fast XML parsing using Expat;"
   ]
  },
  {
   "cell_type": "markdown",
   "metadata": {
    "slideshow": {
     "slide_type": "subslide"
    }
   },
   "source": [
    "**Internet Protocols and Support**\n",
    "\n",
    "**webbrowser** Convenient Web-browser controller;\n",
    "**cgi** Common Gateway Interface support;\n",
    "**cgitb** Traceback manager for CGI scripts;\n",
    "**wsgiref** WSGI Utilities and Reference Implementation;\n",
    "**urllib** URL handling modules;\n",
    "**urllib.request** Extensible library for opening URLs;\n",
    "**urllib.response** Response classes used by urllib;\n",
    "**urllib.parse** Parse URLs into components;\n",
    "**urllib.error** Exception classes raised by urllib.request;\n",
    "**urllib.robotparser** Parser for robots.txt;\n",
    "**http** HTTP modules;\n",
    "**http.client** HTTP protocol client;\n",
    "**ftplib** FTP protocol client;\n",
    "**poplib** POP3 protocol client;\n",
    "**imaplib** IMAP4 protocol client;\n",
    "**nntplib** NNTP protocol client;\n",
    "**smtplib** SMTP protocol client;\n",
    "**smtpd** SMTP Server;\n",
    "**telnetlib** Telnet client;\n",
    "**uuid** UUID objects according to RFC 4122;\n",
    "**socketserver** A framework for network servers;\n",
    "**http.server** HTTP servers;\n",
    "**http.cookies** HTTP state management;\n",
    "**http.cookiejar** Cookie handling for HTTP clients;\n",
    "**xmlrpc** XMLRPC server and client modules;\n",
    "**xmlrpc.client** XML-RPC client access;\n",
    "**xmlrpc.server** Basic XML-RPC servers;\n",
    "**ipaddress** IPv4/IPv6 manipulation library;"
   ]
  },
  {
   "cell_type": "markdown",
   "metadata": {
    "slideshow": {
     "slide_type": "subslide"
    }
   },
   "source": [
    "**Multimedia Services**\n",
    "\n",
    "**audioop** Manipulate raw audio data;\n",
    "**aifc** Read and write AIFF and AIFC files;\n",
    "**sunau** Read and write Sun AU files;\n",
    "**wave** Read and write WAV files;\n",
    "**chunk** Read IFF chunked data;\n",
    "**colorsys** Conversions between color systems;\n",
    "**imghdr** Determine the type of an image;\n",
    "**sndhdr** Determine type of sound file;\n",
    "**ossaudiodev** Access to OSS-compatible audio devices;\n",
    "\n",
    "**Internationalization**\n",
    "\n",
    "**gettext** Multilingual internationalization services;\n",
    "**locale** Internationalization services;\n",
    "\n",
    "**Program Frameworks**\n",
    "\n",
    "**turtle** Turtle graphics;\n",
    "**cmd** Support for line-oriented command interpreters;\n",
    "**shlex** Simple lexical analysis;"
   ]
  },
  {
   "cell_type": "markdown",
   "metadata": {
    "slideshow": {
     "slide_type": "subslide"
    }
   },
   "source": [
    "**Graphical User Interfaces with Tk**\n",
    "\n",
    "**tkinter** Python interface to Tcl/Tk;\n",
    "**tkinter.ttk** Tk themed widgets;\n",
    "**tkinter.tix** Extension widgets for Tk;\n",
    "**tkinter.scrolledtext** Scrolled Text Widget;\n",
    "**IDLE\n",
    "**Other Graphical User Interface Packages\n",
    "\n",
    "**Development Tools**\n",
    "\n",
    "**typing** Support for type hints;\n",
    "**pydoc** Documentation generator and online help system;\n",
    "**doctest** Test interactive Python examples;\n",
    "**unittest** Unit testing framework;\n",
    "**unittest.mock** mock object library;\n",
    "**unittest.mock** getting started;\n",
    "**2to3 - Automated Python 2 to 3 code translation\n",
    "**test** Regression tests package for Python;\n",
    "**test.support** Utilities for the Python test suite;"
   ]
  },
  {
   "cell_type": "markdown",
   "metadata": {
    "slideshow": {
     "slide_type": "subslide"
    }
   },
   "source": [
    "**Debugging and Profiling**\n",
    "\n",
    "**bdb** Debugger framework;\n",
    "**faulthandler** Dump the Python traceback;\n",
    "**pdb** The Python Debugger;\n",
    "**The Python Profilers\n",
    "**timeit** Measure execution time of small code snippets;\n",
    "**trace** Trace or track Python statement execution;\n",
    "**tracemalloc** Trace memory allocations;\n",
    "\n",
    "**Software Packaging and Distribution**\n",
    "\n",
    "**distutils** Building and installing Python modules;\n",
    "**ensurepip** Bootstrapping the pip installer;\n",
    "**venv** Creation of virtual environments;\n",
    "**zipapp** Manage executable python zip archives;"
   ]
  },
  {
   "cell_type": "markdown",
   "metadata": {
    "slideshow": {
     "slide_type": "subslide"
    }
   },
   "source": [
    "**Python Runtime Services**\n",
    "\n",
    "**sys** System-specific parameters and functions;\n",
    "**sysconfig** Provide access to Python’s configuration information;\n",
    "**builtins** Built-in objects;\n",
    "**__main__** Top-level script environment;\n",
    "**warnings** Warning control;\n",
    "**contextlib** Utilities for with-statement contexts;\n",
    "**abc** Abstract Base Classes;\n",
    "**atexit** Exit handlers;\n",
    "**traceback** Print or retrieve a stack traceback;\n",
    "**__future__** Future statement definitions;\n",
    "**gc** Garbage Collector interface;\n",
    "**inspect** Inspect live objects;\n",
    "**site** Site-specific configuration hook;\n",
    "**fpectl** Floating point exception control;"
   ]
  },
  {
   "cell_type": "markdown",
   "metadata": {
    "slideshow": {
     "slide_type": "subslide"
    }
   },
   "source": [
    "**Custom Python Interpreters**\n",
    "\n",
    "**code** Interpreter base classes;\n",
    "**codeop** Compile Python code;\n",
    "\n",
    "**Importing Modules**\n",
    "\n",
    "**zipimport** Import modules from Zip archives;\n",
    "**pkgutil** Package extension utility;\n",
    "**modulefinder** Find modules used by a script;\n",
    "**runpy** Locating and executing Python modules;\n",
    "**importlib** The implementation of import;"
   ]
  },
  {
   "cell_type": "markdown",
   "metadata": {
    "slideshow": {
     "slide_type": "subslide"
    }
   },
   "source": [
    "**Python Language Services**\n",
    "\n",
    "**parser** Access Python parse trees;\n",
    "**ast** Abstract Syntax Trees;\n",
    "**symtable** Access to the compiler’s symbol tables;\n",
    "**symbol** Constants used with Python parse trees;\n",
    "**token** Constants used with Python parse trees;\n",
    "**keyword** Testing for Python keywords;\n",
    "**tokenize** Tokenizer for Python source;\n",
    "**tabnanny** Detection of ambiguous indentation;\n",
    "**pyclbr** Python class browser support;\n",
    "**py_compile** Compile Python source files;\n",
    "**compileall** Byte-compile Python libraries;\n",
    "**dis** Disassembler for Python bytecode;\n",
    "**pickletools** Tools for pickle developers;"
   ]
  },
  {
   "cell_type": "markdown",
   "metadata": {
    "slideshow": {
     "slide_type": "slide"
    }
   },
   "source": [
    "Estas son librerias de uso comun y estan incluidas en la distribución de Python. Sin embargo hay otros sitios donde se pueden encontrar librerias:"
   ]
  },
  {
   "cell_type": "markdown",
   "metadata": {
    "slideshow": {
     "slide_type": "fragment"
    }
   },
   "source": [
    "* Para los usuarios de anaconda están disponibles oficialmente: https://docs.continuum.io/anaconda/packages/pkg-docs"
   ]
  },
  {
   "cell_type": "markdown",
   "metadata": {
    "slideshow": {
     "slide_type": "fragment"
    }
   },
   "source": [
    "* Anaconda tiene una serie de canales no oficiales donde se distribuyen otras librerias (o otras versiones). Por ejemplo: https://conda-forge.github.io/"
   ]
  },
  {
   "cell_type": "markdown",
   "metadata": {
    "slideshow": {
     "slide_type": "fragment"
    }
   },
   "source": [
    "* Python matiene el sitio **Python package index** o **pypi** en https://pypi.python.org/pypi. Actualmente tiene registrados más de 80000 librerias."
   ]
  },
  {
   "cell_type": "markdown",
   "metadata": {
    "slideshow": {
     "slide_type": "fragment"
    }
   },
   "source": [
    "* Otros sitios tipo github o páginas de usuarios."
   ]
  },
  {
   "cell_type": "markdown",
   "metadata": {
    "collapsed": true,
    "slideshow": {
     "slide_type": "slide"
    }
   },
   "source": [
    "### Anaconda\n",
    "Distribuye los paquetes ya compilados facilitando el proceso.\n",
    "Se pueden instalar mediante el GUI, o usando el comando `conda`."
   ]
  },
  {
   "cell_type": "markdown",
   "metadata": {
    "slideshow": {
     "slide_type": "slide"
    }
   },
   "source": [
    "### Pypi\n",
    "Distribuye los paquetes sin compilar. Si la librería específica tiene partes en otros lenguajes (c, fortran, etc.) se compilarán automáticamente en el momento de la instalación. Sin embargo, es necesario tener las herramientas y librerias de dichos programas disponibles. Se instalan mediante el comando `pip`."
   ]
  },
  {
   "cell_type": "markdown",
   "metadata": {
    "slideshow": {
     "slide_type": "slide"
    }
   },
   "source": [
    "### Otros\n",
    "Dependerá de cada caso."
   ]
  },
  {
   "cell_type": "markdown",
   "metadata": {
    "slideshow": {
     "slide_type": "slide"
    }
   },
   "source": [
    "A continuación haremos algunos ejercicios sencillos usando librerias."
   ]
  }
 ],
 "metadata": {
  "celltoolbar": "Slideshow",
  "kernelspec": {
   "display_name": "Python 3",
   "language": "python",
   "name": "python3"
  },
  "language_info": {
   "codemirror_mode": {
    "name": "ipython",
    "version": 3
   },
   "file_extension": ".py",
   "mimetype": "text/x-python",
   "name": "python",
   "nbconvert_exporter": "python",
   "pygments_lexer": "ipython3",
   "version": "3.5.1"
  }
 },
 "nbformat": 4,
 "nbformat_minor": 0
}
