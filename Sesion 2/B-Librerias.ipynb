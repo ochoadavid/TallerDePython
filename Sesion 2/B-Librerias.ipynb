{
 "cells": [
  {
   "cell_type": "markdown",
   "metadata": {
    "slideshow": {
     "slide_type": "slide"
    }
   },
   "source": [
    "## Libreria math\n",
    "\n",
    "![Viga con carga axial](img/Viga_carga_axial.png)\n",
    "\n",
    "En este ejercicio evaluaremos las siguientes expresiones de esfuerzo:\n",
    "$$\\sigma_\\theta = \\dfrac{\\sigma_x}{2}(1 + cos(2 \\cdot \\theta \\cdot \\pi))$$\n",
    "$$\\tau_\\theta = - \\dfrac{\\sigma_x} {2} sin(2 \\cdot \\theta \\cdot \\pi)$$\n",
    "\n",
    "Tomando como datos:\n",
    "$$\\sigma_x = 1$$\n",
    "$$\\theta = 3.75$$\n",
    "\n",
    "Y usando la librería math (que incluye las funciones trigonométricas **sin**, **cos** y el valor **pi**)."
   ]
  },
  {
   "cell_type": "markdown",
   "metadata": {
    "slideshow": {
     "slide_type": "fragment"
    }
   },
   "source": [
    "1) calcula los valores de $\\sigma_\\theta$ y $\\tau_\\theta$ para los valores dados."
   ]
  },
  {
   "cell_type": "code",
   "execution_count": 1,
   "metadata": {
    "collapsed": false,
    "slideshow": {
     "slide_type": "slide"
    }
   },
   "outputs": [
    {
     "name": "stdout",
     "output_type": "stream",
     "text": [
      "sigma_theta = 0.1464\n",
      "tau_theta = -0.3536\n"
     ]
    }
   ],
   "source": [
    "import math as m\n",
    "\n",
    "sigma_x = 1\n",
    "theta = .375\n",
    "\n",
    "sigma_theta = sigma_x / 2 * (1 + m.cos(2 * theta * m.pi))\n",
    "tau_theta = - sigma_x / 2 * m.sin(2 * theta * m.pi)\n",
    "print(\"sigma_theta = {:.4f}\".format(sigma_theta))\n",
    "print(\"tau_theta = {:.4f}\".format(tau_theta))"
   ]
  },
  {
   "cell_type": "markdown",
   "metadata": {
    "slideshow": {
     "slide_type": "slide"
    }
   },
   "source": [
    "Ahora, me interesa hacer una gráfica para distintos valores de theta.\n",
    "\n",
    "2) Haz una lista de valores de $\\theta$ con valores de $-0.5 \\le \\theta \\le 0.5$"
   ]
  },
  {
   "cell_type": "code",
   "execution_count": 2,
   "metadata": {
    "collapsed": false,
    "slideshow": {
     "slide_type": "slide"
    }
   },
   "outputs": [
    {
     "name": "stdout",
     "output_type": "stream",
     "text": [
      "[-0.5, -0.49, -0.48, -0.47, -0.46, -0.45, -0.44, -0.43, -0.42, -0.41, -0.4, -0.39, -0.38, -0.37, -0.36, -0.35, -0.34, -0.33, -0.32, -0.31, -0.3, -0.29, -0.28, -0.27, -0.26, -0.25, -0.24, -0.23, -0.22, -0.21, -0.2, -0.19, -0.18, -0.17, -0.16, -0.15, -0.14, -0.13, -0.12, -0.11, -0.1, -0.09, -0.08, -0.07, -0.06, -0.05, -0.04, -0.03, -0.02, -0.01, 0.0, 0.01, 0.02, 0.03, 0.04, 0.05, 0.06, 0.07, 0.08, 0.09, 0.1, 0.11, 0.12, 0.13, 0.14, 0.15, 0.16, 0.17, 0.18, 0.19, 0.2, 0.21, 0.22, 0.23, 0.24, 0.25, 0.26, 0.27, 0.28, 0.29, 0.3, 0.31, 0.32, 0.33, 0.34, 0.35, 0.36, 0.37, 0.38, 0.39, 0.4, 0.41, 0.42, 0.43, 0.44, 0.45, 0.46, 0.47, 0.48, 0.49, 0.5]\n"
     ]
    }
   ],
   "source": [
    "theta_l = [float(t)/100 for t in range(-50,51,1)]\n",
    "print(theta_l)"
   ]
  },
  {
   "cell_type": "markdown",
   "metadata": {
    "slideshow": {
     "slide_type": "fragment"
    }
   },
   "source": [
    "__Nota__: El día de mañana veremos la librería __numpy__ que facilita mucho este tipo de cálculos."
   ]
  },
  {
   "cell_type": "markdown",
   "metadata": {
    "slideshow": {
     "slide_type": "slide"
    }
   },
   "source": [
    "3) Ahora, construye dos listas con los valores calculados de $\\sigma_\\theta$ y $\\tau_\\theta$."
   ]
  },
  {
   "cell_type": "code",
   "execution_count": 3,
   "metadata": {
    "collapsed": false,
    "slideshow": {
     "slide_type": "fragment"
    }
   },
   "outputs": [],
   "source": [
    "sigma_l = []\n",
    "tau_l = []\n",
    "\n",
    "for th in theta_l:\n",
    "    sigma_l.append(sigma_x / 2 * (1 + m.cos(2 * th * m.pi)))\n",
    "    tau_l.append(- sigma_x / 2 * m.sin(2 * th * m.pi))"
   ]
  },
  {
   "cell_type": "markdown",
   "metadata": {
    "slideshow": {
     "slide_type": "slide"
    }
   },
   "source": [
    "## Libreria matplotlib\n",
    "Otra librería muy útil es la librería matplotlib. Esta tiene un módulo para hacer gráficas que se llama `pyplot`. El __%matplotlib__ nos permite que las gráficas sean generadas directamente para nuestro notebook."
   ]
  },
  {
   "cell_type": "code",
   "execution_count": 4,
   "metadata": {
    "collapsed": true,
    "slideshow": {
     "slide_type": "fragment"
    }
   },
   "outputs": [],
   "source": [
    "import matplotlib.pyplot as plt\n",
    "%matplotlib inline"
   ]
  },
  {
   "cell_type": "markdown",
   "metadata": {
    "slideshow": {
     "slide_type": "slide"
    }
   },
   "source": [
    "4) Usa plt.plot(x, y) para hacer la gráfica."
   ]
  },
  {
   "cell_type": "code",
   "execution_count": 5,
   "metadata": {
    "collapsed": false,
    "slideshow": {
     "slide_type": "slide"
    }
   },
   "outputs": [
    {
     "data": {
      "text/plain": [
       "[<matplotlib.lines.Line2D at 0x7f3b1515a160>]"
      ]
     },
     "execution_count": 5,
     "metadata": {},
     "output_type": "execute_result"
    },
    {
     "data": {
      "image/png": "[encoded data removed]",
      "text/plain": [
       "<matplotlib.figure.Figure at 0x7f3b1515a128>"
      ]
     },
     "metadata": {},
     "output_type": "display_data"
    }
   ],
   "source": [
    "plt.plot(theta_l, sigma_l)\n",
    "plt.plot(theta_l, tau_l)"
   ]
  },
  {
   "cell_type": "markdown",
   "metadata": {
    "slideshow": {
     "slide_type": "slide"
    }
   },
   "source": [
    "La imágen se puede mejorar un poco:"
   ]
  },
  {
   "cell_type": "code",
   "execution_count": 6,
   "metadata": {
    "collapsed": false,
    "slideshow": {
     "slide_type": "fragment"
    }
   },
   "outputs": [
    {
     "data": {
      "image/png": "[encoded data removed]",
      "text/plain": [
       "<matplotlib.figure.Figure at 0x7f3b11d6a240>"
      ]
     },
     "metadata": {},
     "output_type": "display_data"
    }
   ],
   "source": [
    "from matplotlib import style\n",
    "style.use('ggplot')\n",
    "plt.figure(figsize=(8,4))\n",
    "plt.plot(theta_l, sigma_l, label=r\"$\\sigma_{\\theta}$\")\n",
    "plt.plot(theta_l, tau_l, label=r'$\\tau_{\\theta}$')\n",
    "plt.legend()\n",
    "plt.grid()"
   ]
  },
  {
   "cell_type": "markdown",
   "metadata": {
    "slideshow": {
     "slide_type": "slide"
    }
   },
   "source": [
    "5) Declara funciones para calcular los valores de $\\sigma_\\theta$ y $\\tau_\\theta$."
   ]
  },
  {
   "cell_type": "code",
   "execution_count": 7,
   "metadata": {
    "collapsed": true,
    "slideshow": {
     "slide_type": "slide"
    }
   },
   "outputs": [],
   "source": [
    "def sigma(s_x, theta):\n",
    "    return s_x / 2 * (1 + m.cos(2 * theta * m.pi))\n",
    "\n",
    "#def tau(s_x, theta):\n",
    "#    return - s_x / 2 * sin(2 * theta * pi)\n",
    "\n",
    "tau = lambda s_x, theta: - s_x / 2 * m.sin(2 * theta * m.pi)"
   ]
  },
  {
   "cell_type": "markdown",
   "metadata": {
    "slideshow": {
     "slide_type": "fragment"
    }
   },
   "source": [
    "Nota: La palabra __lamdba__ nos permite declarar funciones en una línea."
   ]
  },
  {
   "cell_type": "code",
   "execution_count": 8,
   "metadata": {
    "collapsed": false,
    "slideshow": {
     "slide_type": "slide"
    }
   },
   "outputs": [
    {
     "name": "stdout",
     "output_type": "stream",
     "text": [
      "sigma_theta = 0.1464\n",
      "tau_theta = -0.3536\n"
     ]
    }
   ],
   "source": [
    "print(\"sigma_theta = {:.4f}\".format(sigma(1, .375)))\n",
    "print(\"tau_theta = {:.4f}\".format(tau(1, .375)))"
   ]
  },
  {
   "cell_type": "markdown",
   "metadata": {
    "slideshow": {
     "slide_type": "slide"
    }
   },
   "source": [
    "6) Busca en google \"matplotlib gallery\" o sigue el link:\n",
    "\n",
    "https://matplotlib.org/gallery.html"
   ]
  },
  {
   "cell_type": "markdown",
   "metadata": {
    "slideshow": {
     "slide_type": "slide"
    }
   },
   "source": [
    "## import sys\n",
    "la libreria sys expone algunas propiedades del sistema. Es de particular interes el método __sys.argv__ que nos da los argumentos con que fue llamado un script."
   ]
  },
  {
   "cell_type": "code",
   "execution_count": 9,
   "metadata": {
    "collapsed": false,
    "scrolled": true,
    "slideshow": {
     "slide_type": "fragment"
    }
   },
   "outputs": [
    {
     "name": "stdout",
     "output_type": "stream",
     "text": [
      "['/home/dochoa/miniconda3/envs/jupyter/lib/python3.5/site-packages/ipykernel/__main__.py', '-f', '/run/user/1000/jupyter/kernel-d60b89af-8f90-4061-94fd-9bdfe539ad91.json']\n",
      "----\n",
      "Este python buscará librerias en los siguientes lugares:\n",
      "['', '/home/dochoa/miniconda3/envs/jupyter/lib/python35.zip', '/home/dochoa/miniconda3/envs/jupyter/lib/python3.5', '/home/dochoa/miniconda3/envs/jupyter/lib/python3.5/plat-linux', '/home/dochoa/miniconda3/envs/jupyter/lib/python3.5/lib-dynload', '/home/dochoa/miniconda3/envs/jupyter/lib/python3.5/site-packages/Sphinx-1.5.6-py3.5.egg', '/home/dochoa/miniconda3/envs/jupyter/lib/python3.5/site-packages/setuptools-21.2.1-py3.5.egg', '/home/dochoa/miniconda3/envs/jupyter/lib/python3.5/site-packages', '/home/dochoa/miniconda3/envs/jupyter/lib/python3.5/site-packages/IPython/extensions', '/home/dochoa/.ipython']\n"
     ]
    }
   ],
   "source": [
    "import sys\n",
    "\n",
    "#print(help(sys))\n",
    "print(sys.argv)\n",
    "print('----')\n",
    "print('Este python buscará librerias en los siguientes lugares:')\n",
    "print(sys.path)"
   ]
  },
  {
   "cell_type": "markdown",
   "metadata": {
    "slideshow": {
     "slide_type": "slide"
    }
   },
   "source": [
    "## import os\n",
    "la libreria os expone algunas propiedades del sistema operativo."
   ]
  },
  {
   "cell_type": "code",
   "execution_count": 10,
   "metadata": {
    "collapsed": false,
    "scrolled": true,
    "slideshow": {
     "slide_type": "fragment"
    }
   },
   "outputs": [
    {
     "name": "stdout",
     "output_type": "stream",
     "text": [
      ".\n",
      "['img', 'A-Presentacion.ipynb', 'colores.pickle', 'A-Presentacion', 'A-Presentacion.slides.html', 'tk.py', 'B-Librerias', 'B-Librerias.slides.html', '.ipynb_checkpoints', 'B-Librerias.ipynb']\n"
     ]
    }
   ],
   "source": [
    "import os\n",
    "\n",
    "#print(help(os))\n",
    "print(os.curdir)\n",
    "print(os.listdir())"
   ]
  },
  {
   "cell_type": "markdown",
   "metadata": {
    "slideshow": {
     "slide_type": "slide"
    }
   },
   "source": [
    "## import pickle\n",
    "La libreria __pikcle__ nos permite serializar y grabar objetos en el disco duro.\n",
    "\n",
    "__Nota__: Normalmente cualquier cambio de configuración de Python (versiones, etc.) hará que los objetos no se puedan leer. "
   ]
  },
  {
   "cell_type": "code",
   "execution_count": 11,
   "metadata": {
    "collapsed": false,
    "slideshow": {
     "slide_type": "fragment"
    }
   },
   "outputs": [
    {
     "name": "stdout",
     "output_type": "stream",
     "text": [
      "El archivo existe!\n"
     ]
    }
   ],
   "source": [
    "import pickle\n",
    "\n",
    "colores_favoritos = { \"hugo\": \"amarillo\", \"paco\": \"red\", \"luis\": \"verde\" }\n",
    "\n",
    "pickle.dump(colores_favoritos, open(\"colores.pickle\", \"wb\"))\n",
    "\n",
    "if 'colores.pickle' in os.listdir():\n",
    "    print('El archivo existe!')"
   ]
  },
  {
   "cell_type": "markdown",
   "metadata": {
    "slideshow": {
     "slide_type": "slide"
    }
   },
   "source": [
    "Para leerlos usamos el método load()."
   ]
  },
  {
   "cell_type": "code",
   "execution_count": 12,
   "metadata": {
    "collapsed": false,
    "slideshow": {
     "slide_type": "fragment"
    }
   },
   "outputs": [
    {
     "name": "stdout",
     "output_type": "stream",
     "text": [
      "{'hugo': 'amarillo', 'paco': 'red', 'luis': 'verde'}\n"
     ]
    }
   ],
   "source": [
    "colores_del_archivo = pickle.load(open(\"colores.pickle\", \"rb\"))\n",
    "\n",
    "print(colores_del_archivo)"
   ]
  }
 ],
 "metadata": {
  "celltoolbar": "Slideshow",
  "kernelspec": {
   "display_name": "Python 3",
   "language": "python",
   "name": "python3"
  },
  "language_info": {
   "codemirror_mode": {
    "name": "ipython",
    "version": 3
   },
   "file_extension": ".py",
   "mimetype": "text/x-python",
   "name": "python",
   "nbconvert_exporter": "python",
   "pygments_lexer": "ipython3",
   "version": "3.5.1"
  }
 },
 "nbformat": 4,
 "nbformat_minor": 0
}
