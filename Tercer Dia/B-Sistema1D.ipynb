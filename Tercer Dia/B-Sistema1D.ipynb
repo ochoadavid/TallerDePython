{
 "cells": [
  {
   "cell_type": "markdown",
   "metadata": {
    "slideshow": {
     "slide_type": "slide"
    }
   },
   "source": [
    "## Ejercicio 1 - Numpy\n",
    "\n",
    "Se quieren calcular las reacciones y el desplazamiento de un sistema de dos resortes de un grado de libertad con el movimento restringido en los extremos.\n",
    "\n",
    "![Sistema 1D de dos resortes](img/Resortes-1D.png)\n",
    "\n",
    "Donde $D_1$, $D_2$, $D_3$ son los desplazamientos de cada uno de los puntos, $Q_2$ y $Q_3$ son las reacciones y $Q_1$ es la fuerza aplicada. Los resortes tienen la rigidez $k_1$ y $k_2$."
   ]
  },
  {
   "cell_type": "markdown",
   "metadata": {
    "slideshow": {
     "slide_type": "slide"
    }
   },
   "source": [
    "De este sistema se obtiene la sigiente ecuación matricial:\n",
    "$$\n",
    "\\left[\\begin{array}{ccc}\n",
    "k_{1}+k_{2} & -k_{1} & -k_{2}\\\\\n",
    "-k_{1} & k_{1} & 0\\\\\n",
    "-k_{2} & 0 & k_{2}\n",
    "\\end{array}\\right]\\left[\\begin{array}{c}\n",
    "D_{1}\\\\\n",
    "D_{2}\\\\\n",
    "D_{3}\n",
    "\\end{array}\\right]=\\left[\\begin{array}{c}\n",
    "Q_{1}\\\\\n",
    "Q_{2}\\\\\n",
    "Q_{3}\n",
    "\\end{array}\\right]\n",
    "$$"
   ]
  },
  {
   "cell_type": "markdown",
   "metadata": {
    "slideshow": {
     "slide_type": "slide"
    }
   },
   "source": [
    "Los datos que tenemos son:\n",
    "$$Q_1 = 50\\,N$$\n",
    "$$k_1 = 500\\,N/m$$\n",
    "$$k_2 = 750\\,N/m$$\n",
    "\n",
    "Por el esquema conocemos que:\n",
    "$$D_2 = 0$$\n",
    "$$D_3 = 0$$"
   ]
  },
  {
   "cell_type": "markdown",
   "metadata": {
    "slideshow": {
     "slide_type": "slide"
    }
   },
   "source": [
    "Substituyendo los valores $0$:\n",
    "$$\n",
    "\\left[\\begin{array}{ccc}\n",
    "k_{1}+k_{2} & -k_{1} & -k_{2}\\\\\n",
    "-k_{1} & k_{1} & 0\\\\\n",
    "-k_{2} & 0 & k_{2}\n",
    "\\end{array}\\right]\\left[\\begin{array}{c}\n",
    "D_{1}\\\\\n",
    "0\\\\\n",
    "0\n",
    "\\end{array}\\right]=\\left[\\begin{array}{c}\n",
    "Q_{1}\\\\\n",
    "Q_{2}\\\\\n",
    "Q_{3}\n",
    "\\end{array}\\right]\n",
    "$$\n"
   ]
  },
  {
   "cell_type": "markdown",
   "metadata": {
    "slideshow": {
     "slide_type": "slide"
    }
   },
   "source": [
    "Y reorganizando:\n",
    "$$\n",
    "\\left[\\begin{array}{ccc}\n",
    "k_{1}+k_{2} & 0 & 0\\\\\n",
    "-k_{1} & -1 & 0\\\\\n",
    "-k_{2} & 0 & -1\n",
    "\\end{array}\\right]\\left[\\begin{array}{c}\n",
    "D_{1}\\\\\n",
    "Q_{2}\\\\\n",
    "Q_{3}\n",
    "\\end{array}\\right]=\\left[\\begin{array}{c}\n",
    "Q_{1}\\\\\n",
    "0\\\\\n",
    "0\n",
    "\\end{array}\\right]\n",
    "$$\n"
   ]
  },
  {
   "cell_type": "markdown",
   "metadata": {
    "slideshow": {
     "slide_type": "slide"
    }
   },
   "source": [
    "Substituyendo los valores:\n",
    "$$\n",
    "\\left[\\begin{array}{ccc}\n",
    "1250 & 0 & 0\\\\\n",
    "-500 & -1 & 0\\\\\n",
    "-750 & 0 & -1\n",
    "\\end{array}\\right]\\left[\\begin{array}{c}\n",
    "D_{1}\\\\\n",
    "Q_{2}\\\\\n",
    "Q_{3}\n",
    "\\end{array}\\right]=\\left[\\begin{array}{c}\n",
    "50\\\\\n",
    "0\\\\\n",
    "0\n",
    "\\end{array}\\right]\n",
    "$$\n",
    "____\n",
    "**Ejercicio**: Resuelve este sistema del tipo $Ax = b$ con la función `scipy.linalg.solve`:\n",
    "    x = solve(A,b)"
   ]
  },
  {
   "cell_type": "code",
   "execution_count": 1,
   "metadata": {
    "collapsed": true,
    "slideshow": {
     "slide_type": "slide"
    }
   },
   "outputs": [],
   "source": [
    "import numpy as np\n",
    "import scipy.linalg as linalg"
   ]
  },
  {
   "cell_type": "code",
   "execution_count": 2,
   "metadata": {
    "collapsed": false,
    "slideshow": {
     "slide_type": "slide"
    }
   },
   "outputs": [
    {
     "name": "stdout",
     "output_type": "stream",
     "text": [
      "[[  1.25000000e+03   0.00000000e+00   0.00000000e+00]\n",
      " [ -5.00000000e+02  -1.00000000e+00   0.00000000e+00]\n",
      " [ -7.50000000e+02   0.00000000e+00  -1.00000000e+00]]\n"
     ]
    }
   ],
   "source": [
    "k1 = 500\n",
    "k2 = 750\n",
    "\n",
    "A = np.array([[k1 + k2, 0, 0],[-k1, -1, 0],[-k2, 0, -1]], float)\n",
    "print(A)"
   ]
  },
  {
   "cell_type": "code",
   "execution_count": 3,
   "metadata": {
    "collapsed": false,
    "slideshow": {
     "slide_type": "slide"
    }
   },
   "outputs": [
    {
     "name": "stdout",
     "output_type": "stream",
     "text": [
      "[ 50.   0.   0.]\n"
     ]
    }
   ],
   "source": [
    "b = np.array([50, 0, 0], float)\n",
    "print(b)"
   ]
  },
  {
   "cell_type": "code",
   "execution_count": 4,
   "metadata": {
    "collapsed": false,
    "slideshow": {
     "slide_type": "slide"
    }
   },
   "outputs": [
    {
     "name": "stdout",
     "output_type": "stream",
     "text": [
      "El desplazamiento D1 es 0.04 m.\n",
      "La reacción Q2 es -20.0 N.\n",
      "La reacción Q2 es -30.0 N.\n"
     ]
    }
   ],
   "source": [
    "D1, Q2, Q3 = linalg.solve(A,b)\n",
    "print(\"El desplazamiento D1 es {} m.\".format(D1))\n",
    "print(\"La reacción Q2 es {} N.\".format(Q2))\n",
    "print(\"La reacción Q2 es {} N.\".format(Q3))"
   ]
  }
 ],
 "metadata": {
  "celltoolbar": "Slideshow",
  "kernelspec": {
   "display_name": "Python 3",
   "language": "python",
   "name": "python3"
  },
  "language_info": {
   "codemirror_mode": {
    "name": "ipython",
    "version": 3
   },
   "file_extension": ".py",
   "mimetype": "text/x-python",
   "name": "python",
   "nbconvert_exporter": "python",
   "pygments_lexer": "ipython3",
   "version": "3.5.1"
  }
 },
 "nbformat": 4,
 "nbformat_minor": 0
}
